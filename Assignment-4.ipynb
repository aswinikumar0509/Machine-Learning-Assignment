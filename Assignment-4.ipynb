{
 "cells": [
  {
   "cell_type": "markdown",
   "id": "f40fb260",
   "metadata": {},
   "source": [
    "1. What are the key tasks involved in getting ready to work with machine learning modeling ?\n",
    "\n",
    "Ans:\n",
    "The Key task involved in getting ready to work with machine learning are:\n",
    "\n",
    "1.Data Collection : Defining the problem and assembling the dataset\n",
    "\n",
    "2.Data preperation : Preparing your data\n",
    "\n",
    "3.Choosing the model\n",
    "\n",
    "4.Training the model:Develiping the model that does better than a baseline\n",
    "\n",
    "5.Evaluating the Model:Choosing the measure of success.Deciding on an evaluation protocol\n",
    "\n",
    "6.Parameter tuning: Scalling up : developing a model thoverfits.Regualizing your model and tuining your parameter\n",
    "\n",
    "7.Prediction or Inference"
   ]
  },
  {
   "cell_type": "markdown",
   "id": "be9651a2",
   "metadata": {},
   "source": [
    "2.What are the different forms of data used in machine learning ? Give a specific example for each of them ?\n",
    "\n",
    "Ans:\n",
    "Most data can be categorical into 4 basic type of machine learning presperation:\n",
    "\n",
    "1.Numerical Data :\n",
    "Numerical data is any data where data points are exact numbers.Statisticians also might call numerical data,quantitative data.\n",
    "This data has meaning as a measurement such as house prices or as a count, such as a number of residential properties in Los Angeles or how many houses sold in the past year.\n",
    "\n",
    "2.Categorical Data:\n",
    "Categorical data represents characteristics, such as a hockey player’s position, team, hometown. Categorical data can take numerical values. For example, maybe we would use 1 for the colour red and 2 for blue. But these numbers don’t have a mathematical meaning. That is, we can’t add them together or take the average.\n",
    "\n",
    "3.Time Series Data:\n",
    "Time series data is a sequence of numbers collected at regular intervals over some period of time. It is very important, especially in particular fields like finance. Time series data has a temporal value attached to it, so this would be something like a date or a timestamp that you can look for trends in time.\n",
    "\n",
    "4.Text:\n",
    "Text data is basically just words. A lot of the time the first thing that you do with text is you turn it into numbers using some interesting functions like the bag of words formulation."
   ]
  },
  {
   "cell_type": "markdown",
   "id": "0035ef59",
   "metadata": {},
   "source": [
    "3. Distinguish between :\n",
    "    \n",
    "1.Numeric vs. categorical attributes\n",
    "\n",
    "2.Feature selection vs. dimensionality reduction\n",
    "\n",
    "Ans:\n",
    "\n",
    "1.Numeric vs. categorical attributes:\n",
    "\n",
    "Numerical data are values obtained for quantitative variable, and carries a sense of magnitude related to the context of the variable (hence, they are always numbers or symbols carrying a numerical value).\n",
    "\n",
    "Categorical data are values obtained for a qualitative variable. categorical data numbers do not carry a sense of magnitude.\n",
    "\n",
    "Numerical data always belong to either ordinal, ratio, or interval type, whereas categorical data belong to nominal type. - - Methods used to analyse quantitative data are different from the methods used for categorical data, even if the principles are the same at least the application has significant differences.\n",
    "\n",
    "Numerical data are analysed using statistical methods in descriptive statistics, regression, time series and many more.For categorical data usually descriptive methods and graphical methods are employed. Some non-parametric tests are also used.\n",
    "\n",
    "2.Feature selection vs dimensionality reduction:\n",
    "\n",
    "Feature selection you just select a subset of the original feature set, without any manipulation of the data on the other hand.\n",
    "\n",
    "Dimensionality reduction is typically choosing a new representation within which you can describe most but not all of the variance within your data, thereby retaining the relevant information, while reducing theamount of information necessary to represent it."
   ]
  },
  {
   "cell_type": "markdown",
   "id": "2f82de1c",
   "metadata": {},
   "source": [
    "4.Make quick notes on any two of the following ?\n",
    "\n",
    "1.The histogram\n",
    "\n",
    "2.Use a scatter plot\n",
    "\n",
    "3.PCA (Personal Computer Aid)\n",
    "\n",
    "Ans :\n",
    "\n",
    "1.The histogram: \n",
    "A Histogram is a graphical representation that organizes a group of data points into user-specified ranges. Similar in appearance to a bar graph, the histogram condenses a data series into an easily interpreted visual by taking many data points and grouping them into logical ranges or bins.\n",
    "\n",
    "2.Use a scatter plot:\n",
    "A scatter plot (aka scatter chart, scatter graph) uses dots to represent values for two different numeric variables. The position of each dot on the horizontal and vertical axis indicates values for an individual data point. Scatter plots are used to observe relationships between variables.\n",
    "\n",
    "3.PCA(Personal Component Analysis):\n",
    "Principal Componenet Analysis or PCA is a widely used technique for dimensionality reduction of the data set . Reducing the number of components or feature costs some accuracy and on the other habd , it make the large data set simpler , easy to explore and visualize\n"
   ]
  },
  {
   "cell_type": "markdown",
   "id": "e17029b3",
   "metadata": {},
   "source": [
    "5.Why is it necessary to investigate data? Is there a discrepancy in how qualitative and quantitative data are explored ?\n",
    "\n",
    "Ans:\n",
    "If data set is messy , buling models will not help you to solve your problem.What will happen in GarbageIn , Garbage Out . In order to bulid a powerful machine learing algorithm.We need to explore and understand our data set before we define a predictive task and solve it."
   ]
  },
  {
   "cell_type": "markdown",
   "id": "e78b66b2",
   "metadata": {},
   "source": [
    "6.What are the various histogram shapes? What exactly are ‘bins' ?\n",
    "\n",
    "Ans: The differnet type of a histogram are:\n",
    "\n",
    "1.Uniform Histogram\n",
    "\n",
    "2.Symmetric Histogram\n",
    "\n",
    "3..Bimodal Histogram\n",
    "\n",
    "4.Probability Histogram\n",
    "\n",
    "The bin in a histogram is the choice of unit and spacing on the X-axis.All the data in a probability distribution represented visually by a histogram is filled into the corresponding bins.The height of each bin is a measurement of the frequency with which data appears inside the range of that bin in the distribution."
   ]
  },
  {
   "cell_type": "markdown",
   "id": "16a19773",
   "metadata": {},
   "source": [
    "7.How do we deal with data outliers ?\n",
    "\n",
    "Ans:\n",
    "We can use z-score or any of below methods to deal with outliers :\n",
    "\n",
    "1.Univariate Method : This method looks for data points with extreme values on one variable.\n",
    "\n",
    "2.Multivariate Method : Here , we look for unusual combinations of all the variable.\n",
    "\n",
    "3.Minkowski Error:This method reduces the contribution of potential outiers in the training process.\n",
    "\n",
    "4.Z-Score : This can be done with just one line code as we have already calculated the Z-score.\n",
    "boston_df_o = boston_df_o[(z < 3).all(axis=1)]\n",
    "\n",
    "5.IQR Score: Calculate IQR score to filter out the outliers by keeping only valid values.\n",
    "boston_df_out = boston_df_o1[~((boston_df_o1 < (Q1 - 1.5 * IQR)) |(boston_df_o1 > (Q3 + 1.5 *IQR))).any(axis=1)]\n",
    "boston_df_out.shape\n",
    "\n",
    "Quantile function: Use quantile() to remove amount of data."
   ]
  },
  {
   "cell_type": "markdown",
   "id": "52343343",
   "metadata": {},
   "source": [
    "8.What are the various central inclination measures? Why does mean vary too much from median in certain data sets ?\n",
    "\n",
    "Ans: Mean, Median and Mode are Central Inclination Measures. Mean varies more than Median due to presence of outliers, as mean is averaging all points while median in like finding a middle number."
   ]
  },
  {
   "cell_type": "markdown",
   "id": "0cd510dc",
   "metadata": {},
   "source": [
    "9.Describe how a scatter plot can be used to investigate bivariate relationships. Is it possible to find outliers using a scatter plot ?\n",
    "\n",
    "Ans: A Scatter Plot (aka scatter chart, scatter graph) uses dots to represent values for two different numeric variables. The position of each dot on the horizontal and vertical axis indicates values for an individual data point. So this visualization gives us the idea of bivariate relationship.\n",
    "\n",
    "Scatter plot can also help finding outliers as outliers can be visualized at farther distance than regular data."
   ]
  },
  {
   "cell_type": "markdown",
   "id": "5fdd6842",
   "metadata": {},
   "source": [
    "10. Describe how cross-tabs can be used to figure out how two variables are related ?\n",
    "\n",
    "Ans: Cross tabulation is a method to quantitatively analyze the relationship between multiple variables. Also known as contingency tables or cross tabs, cross tabulation groups variables to understand the correlation between different variables. It also shows how correlations change from one variable grouping to another."
   ]
  },
  {
   "cell_type": "code",
   "execution_count": null,
   "id": "6d109b7e",
   "metadata": {},
   "outputs": [],
   "source": []
  }
 ],
 "metadata": {
  "kernelspec": {
   "display_name": "Python 3 (ipykernel)",
   "language": "python",
   "name": "python3"
  },
  "language_info": {
   "codemirror_mode": {
    "name": "ipython",
    "version": 3
   },
   "file_extension": ".py",
   "mimetype": "text/x-python",
   "name": "python",
   "nbconvert_exporter": "python",
   "pygments_lexer": "ipython3",
   "version": "3.9.12"
  }
 },
 "nbformat": 4,
 "nbformat_minor": 5
}
