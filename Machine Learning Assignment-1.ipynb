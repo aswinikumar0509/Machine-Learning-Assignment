{
 "cells": [
  {
   "cell_type": "markdown",
   "id": "ed0d0209",
   "metadata": {},
   "source": [
    "1. What does one mean by the term &quot;machine learning&quot;?\n",
    "\n",
    "Ans->"
   ]
  },
  {
   "cell_type": "markdown",
   "id": "049067b0",
   "metadata": {},
   "source": [
    "Macine learning is an application of AI that enable system to learn and improve fron the experiabce without being explicitly programmed .Machine learning focouson developing computer program that can accesss data and use it to learn for themselves."
   ]
  },
  {
   "cell_type": "markdown",
   "id": "eea4fa5b",
   "metadata": {},
   "source": [
    "2.Can you think of 4 distinct types of issues where it shines?\n",
    "\n",
    "Ans->"
   ]
  },
  {
   "cell_type": "markdown",
   "id": "ae4c6d88",
   "metadata": {},
   "source": [
    "The following are some of the issues where Machine Learning can be used :\n",
    "\n",
    "1.Image Recognition :Ima ge recognition is one of the most common application of machine learning .It is used to identify objects , person  place , digital image etc.\n",
    "\n",
    "2.Speech Recognition :While using google ,we get an option of search by voice , it comes under speech recognition , and its popular application of machine learning.\n",
    "\n",
    "3.Traffic Prediction : It predict hte trafic condition where the traffic is cleared ,slow_moving or heavily congest with the help of two way.\n",
    "\n",
    "4.Product recommendation:Machine Learning is widely used by various e-commerce and entertainment companies such as Amazon , Netflix , etc for product recommendation to the user."
   ]
  },
  {
   "cell_type": "markdown",
   "id": "e4368bd8",
   "metadata": {},
   "source": [
    "3.What is a labeled training set, and how does it work ?\n",
    "\n",
    "Ans->\n",
    "\n",
    "While spliting up the data , Data containing know response variable values into two pieces.The training set is used to train the algorithm , and then we can use the trained model on the test set to predict the response variable values that are already known."
   ]
  },
  {
   "cell_type": "markdown",
   "id": "b10d5747",
   "metadata": {},
   "source": [
    "4.What are the two most important tasks that are supervised ?"
   ]
  },
  {
   "cell_type": "markdown",
   "id": "2df39150",
   "metadata": {},
   "source": [
    "Ans: The two most common supervised learning tasks are Regression and Classification."
   ]
  },
  {
   "cell_type": "markdown",
   "id": "ab067e1d",
   "metadata": {},
   "source": [
    "5.Can you think of four examples of unsupervised tasks ?\n",
    "\n",
    "Ans: Four common Unsupervised Tasks included Clustering, Visualization, Dimensionality Reduction, and Association Rule Learning."
   ]
  },
  {
   "cell_type": "markdown",
   "id": "fc8a29a7",
   "metadata": {},
   "source": [
    "6.State the machine learning model that would be best to make a robot walk through various unfamiliar terrains ?\n",
    "\n",
    "Ans : The best Machine Learning algorithm to allow a Robot to walk in unfamiliar terrains is Reinforced Learning , where the robot can learn from response of the terrain to optimize itself"
   ]
  },
  {
   "cell_type": "markdown",
   "id": "7ea3922f",
   "metadata": {},
   "source": [
    "7.Which algorithm will you use to divide your customers into different groups ?\n",
    "\n",
    "Ans: The Best Algorithm to Segment Customers into different groups is either Supervised Learning (if the groups have known labels) or Unsupervised Learning (if there are no group labels)."
   ]
  },
  {
   "cell_type": "markdown",
   "id": "db66aee2",
   "metadata": {},
   "source": [
    "8.Will you consider the problem of spam detection to be a supervised or unsupervised learning problem ?\n",
    "\n",
    "Ans: Spam detection is the unsupervised machine learning problem because the labels are known(spam or no spam)"
   ]
  },
  {
   "cell_type": "markdown",
   "id": "1d05cfa1",
   "metadata": {},
   "source": [
    "9.What is the concept of an online learning system ?\n",
    "\n",
    "Ans: Online learning system is a learning system in which the machine learns continously, as data is given in small streams continuously."
   ]
  },
  {
   "cell_type": "markdown",
   "id": "deff956f",
   "metadata": {},
   "source": [
    "10.What is out-of-core learning, and how does it differ from core learning ?\n",
    "\n",
    "Ans :Out-of-core learning system is  a system that can handle data that cannot fit into your computer memory.It uses online learning system to feed data in small bits."
   ]
  },
  {
   "cell_type": "markdown",
   "id": "e115112e",
   "metadata": {},
   "source": [
    "11.What kind of learning algorithm makes predictions using a similarity measure ?\n",
    "\n",
    "Ans: Learning algorithm that relies on a similarity measure to make predictions is Instance Based Algorithm."
   ]
  },
  {
   "cell_type": "markdown",
   "id": "bf32ac64",
   "metadata": {},
   "source": [
    "12.What's the difference between a model parameter and a hyperparameter in a learning algorithm ?\n",
    "\n",
    "Ans: Model parameter determines how a model will predict given a new instance. Model usually has more than one parameter (i.e. slope of a linear model). Hyperparameter is a parameter for the learning algorithm, not of a model."
   ]
  },
  {
   "cell_type": "markdown",
   "id": "30b94deb",
   "metadata": {},
   "source": [
    "13.What are the criteria that model-based learning algorithms look for? What is the most popular method they use to achieve success? What method do they use to make predictions ?\n",
    "\n",
    "Ans: Model based learning algorithm search for the optimal value of parameters in a model that will give the best results for the new instances. We often use a cost function or similar to determine what the parameter value has to be in order to minimize the function. The model makes prediction by using the value of the new instance and the parameters in its function."
   ]
  },
  {
   "cell_type": "markdown",
   "id": "379a073f",
   "metadata": {},
   "source": [
    "14.Can you name four of the most important Machine Learning challenges ?\n",
    "\n",
    "Ans: Four main challenges in Machine Learning include the following:\n",
    "\n",
    "1.Overfitting the Data\n",
    "\n",
    "2.Underfitting the Data\n",
    "\n",
    "3.Lacking in Data\n",
    "\n",
    "4.Non Representative Data."
   ]
  },
  {
   "cell_type": "markdown",
   "id": "203f94a3",
   "metadata": {},
   "source": [
    "15.What happens if the model performs well on the training data but fails to generalize the results to new situations? Can you think of three different options ?\n",
    "\n",
    "Ans: If the model performs poorly to new instances, then it has overfitted on the training data. To solve this, we can do any of the following three:\n",
    "\n",
    "1.Get more data\n",
    "\n",
    "2.Implement a simpler model\n",
    "\n",
    "3.Eliminate outliers or noise from the existing data set."
   ]
  },
  {
   "cell_type": "markdown",
   "id": "15a628be",
   "metadata": {},
   "source": [
    "16.What exactly is a test set, and why would you need one ?\n",
    "\n",
    "Ans: Test set is a set to test your model (fit using training data) to see how it performs.Test set is necessary to determine how good (or bad) a model performs."
   ]
  },
  {
   "cell_type": "markdown",
   "id": "1bbc5971",
   "metadata": {},
   "source": [
    "17.What is a validation set's purpose ?\n",
    "\n",
    "Ans: Validation set is a set used to compare between different training models."
   ]
  },
  {
   "cell_type": "markdown",
   "id": "cf6706e7",
   "metadata": {},
   "source": [
    "18.What precisely is the train-dev kit, when will you need it, how do you put it to use ?\n",
    "\n",
    "Ans: Cross-validation is a tool to compare models without needing a separate validation set. It is preferred over validation set because we can save from breaking of part of the training set to create a validation set, as having more data is valuable regardless."
   ]
  },
  {
   "cell_type": "markdown",
   "id": "24aab196",
   "metadata": {},
   "source": [
    "19.What could go wrong if you use the test set to tune hyperparameters ?\n",
    "\n",
    "Ans: If we tune hyperparameters using the test sets, then it may not perform well on the out-of-sample data because the model is tuned just for that specific set."
   ]
  },
  {
   "cell_type": "code",
   "execution_count": null,
   "id": "ad3be623",
   "metadata": {},
   "outputs": [],
   "source": []
  }
 ],
 "metadata": {
  "kernelspec": {
   "display_name": "Python 3 (ipykernel)",
   "language": "python",
   "name": "python3"
  },
  "language_info": {
   "codemirror_mode": {
    "name": "ipython",
    "version": 3
   },
   "file_extension": ".py",
   "mimetype": "text/x-python",
   "name": "python",
   "nbconvert_exporter": "python",
   "pygments_lexer": "ipython3",
   "version": "3.9.12"
  }
 },
 "nbformat": 4,
 "nbformat_minor": 5
}
